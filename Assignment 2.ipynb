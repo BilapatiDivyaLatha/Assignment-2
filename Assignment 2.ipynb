{
 "cells": [
  {
   "cell_type": "markdown",
   "metadata": {},
   "source": [
    "# Assignment 2"
   ]
  },
  {
   "cell_type": "code",
   "execution_count": 11,
   "metadata": {},
   "outputs": [
    {
     "name": "stdout",
     "output_type": "stream",
     "text": [
      "1\n",
      "3\n",
      "6\n",
      "10\n",
      "15\n",
      "21\n",
      "28\n",
      "36\n",
      "45\n"
     ]
    },
    {
     "data": {
      "text/plain": [
       "45"
      ]
     },
     "execution_count": 11,
     "metadata": {},
     "output_type": "execute_result"
    }
   ],
   "source": [
    "#Task 1:\n",
    "\"\"\"1.1 Write a Python Program to implement your own myreduce() function which works exactly like\n",
    "Python's built-in function reduce()\"\"\"\n",
    "\n",
    "l=[]\n",
    "for i in range(0,10):\n",
    "    l.append(i)\n",
    "def myreduce(func,mylist):\n",
    "    x=mylist[0]\n",
    "    for i in range(1,len(mylist)):\n",
    "        x=func(x,mylist[i])\n",
    "        print(x)\n",
    "    return(x)\n",
    "def sum(a,b):\n",
    "    return a+b\n",
    "\n",
    "S=myreduce(sum,l)\n",
    "S"
   ]
  },
  {
   "cell_type": "code",
   "execution_count": 20,
   "metadata": {},
   "outputs": [
    {
     "name": "stdout",
     "output_type": "stream",
     "text": [
      "Extracting the even numbers from the list : [2, 4, 6, 8, 10]\n",
      "Extracting the odd numbers from the list : [1, 3, 5, 7, 9]\n",
      "Extracting the numbers which are the 3 multiples from the list : [3, 6, 9]\n"
     ]
    }
   ],
   "source": [
    "\"\"\"1.2 Write a Python program to implement your own myfilter() function which works exactly like\n",
    "Python's built-in function filter()\"\"\"\n",
    "def my_filter(func,mylist):\n",
    "    f=[]\n",
    "    for i in mylist:\n",
    "        if func(i):\n",
    "            f.append(i)\n",
    "    return f\n",
    "def even(n):\n",
    "    if n%2==0:\n",
    "        return True\n",
    "    else:\n",
    "        return False\n",
    "def odd(n):\n",
    "    if n%2!=0:\n",
    "        return True\n",
    "    else:\n",
    "        return False\n",
    "def mul_three(n):\n",
    "    if n%3==0:\n",
    "        return True\n",
    "    else:\n",
    "        return False\n",
    "lst=[]\n",
    "for i in range(1,11):\n",
    "    lst.append(i)\n",
    "print(\"Extracting the even numbers from the list :\",my_filter(even,lst))\n",
    "print(\"Extracting the odd numbers from the list :\",my_filter(odd,lst))\n",
    "print(\"Extracting the numbers which are the 3 multiples from the list :\",my_filter(mul_three,lst))"
   ]
  },
  {
   "cell_type": "code",
   "execution_count": 33,
   "metadata": {},
   "outputs": [
    {
     "name": "stdout",
     "output_type": "stream",
     "text": [
      "['A', 'C', 'A', 'D', 'G', 'I', 'L', 'D']\n",
      "['x', 'xx', 'xxx', 'xxxx', 'y', 'yy', 'yyy', 'yyyy', 'z', 'zz', 'zzz', 'zzzz']\n",
      "['x', 'y', 'z', 'xx', 'yy', 'zz', 'xxx', 'yyy', 'zzz', 'xxxx', 'yyyy', 'zzzz']\n",
      "[[2], [3], [4], [3], [4], [5], [4], [5], [6]]\n",
      "[[3, 4, 5], [4, 5, 6], [5, 6, 7], [6, 7, 8]]\n",
      "[(1, 1), (2, 1), (3, 1), (1, 2), (2, 2), (3, 2), (1, 3), (2, 3), (3, 3)]\n"
     ]
    }
   ],
   "source": [
    "\"\"\" 2. Implement List comprehensions to produce the following lists.\n",
    "Write List comprehensions to produce the following Lists\n",
    "i.   ['A', 'C', 'A', 'D', 'G', 'I', ’L’, ‘ D’]\n",
    "ii.  ['x', 'xx', 'xxx', 'xxxx', 'y', 'yy', 'yyy', 'yyyy', 'z', 'zz', 'zzz', 'zzzz']\n",
    "iii. ['x', 'y', 'z', 'xx', 'yy', 'zz', 'xx', 'yy', 'zz', 'xxxx', 'yyyy', 'zzzz']\n",
    "iv.  [[2], [3], [4], [3], [4], [5], [4], [5], [6]]\n",
    "v.   [[2, 3, 4, 5], [3, 4, 5, 6], [4, 5, 6, 7], [5, 6, 7, 8]]\n",
    "vi.  [(1, 1), (2, 1), (3, 1), (1, 2), (2, 2), (3, 2), (1, 3), (2, 3), (3, 3)]  \"\"\"\n",
    "\n",
    "#i.\n",
    "A=[i for i in \"ACADGILD\"]\n",
    "print(A)\n",
    "#ii.\n",
    "B=[i*j for i in [\"x\",\"y\",\"z\"] for j in range(1,5)]\n",
    "print(B)\n",
    "#iii.\n",
    "C=[i*j for i in range(1,5) for j in [\"x\",\"y\",\"z\"]]\n",
    "print(C)\n",
    "#iv.\n",
    "D=[[i+j] for i in range(0,3) for j in range(2,5)]\n",
    "print(D)\n",
    "#v.\n",
    "E=[[i+j for i in range(1,4)] for j in range(2,6)]\n",
    "print(E)\n",
    "#vi.\n",
    "F=[(j,i) for i in range(1,4) for j in range(1,4)]\n",
    "print(F)\n"
   ]
  },
  {
   "cell_type": "code",
   "execution_count": 49,
   "metadata": {},
   "outputs": [
    {
     "name": "stdout",
     "output_type": "stream",
     "text": [
      "The List of strings: ['list', 'string', 'find the list', 'guess the given list', 'finally you have found it']\n",
      "The longest word from the list: finally you have found it\n"
     ]
    }
   ],
   "source": [
    "\"\"\"3. Implement a function longestWord() that takes a list of words and \n",
    "returns the longest one.\"\"\"\n",
    "def longestWord(bulk):\n",
    "    r=[]\n",
    "    for i in range(len(bulk)):\n",
    "        r.append(len(bulk[i]))\n",
    "    if len(bulk[i])==max(r):\n",
    "        return (bulk[i])\n",
    "print(\"The List of strings:\",[\"list\",\"string\",\"find the list\",\"guess the given list\",\"finally you have found it\"] )\n",
    "print(\"The longest word from the list:\",longestWord([\"list\",\"string\",\"find the list\",\"guess the given list\",\"finally you have found it\"]))"
   ]
  },
  {
   "cell_type": "code",
   "execution_count": 4,
   "metadata": {},
   "outputs": [
    {
     "name": "stdout",
     "output_type": "stream",
     "text": [
      "There are 3 sides of the triangle\n",
      "14.696938456699069\n"
     ]
    }
   ],
   "source": [
    "#Task2\n",
    "\"\"\"1.1. Write a Python Program(with class concepts) to find the area of the \n",
    "triangle using the below formula.\n",
    "area = (s*(s-a)*(s-b)*(s-c)) ** 0.5\n",
    "Function to take the length of the sides of triangle from user should be\n",
    "defined in the parent class and function to calculate the area should be \n",
    "defined in subclass.\"\"\"\n",
    "\n",
    "class angle():\n",
    "    def __init__(self,n):\n",
    "        self.number_sides=n\n",
    "    def __str__(self):\n",
    "        return \"There are %d sides of the triangle\" %(self.number_sides)\n",
    "\n",
    "class triangle(angle):\n",
    "    def __init__(self,length):\n",
    "        angle.__init__(self,3)\n",
    "        self.len_sides=length\n",
    "    def area(self):\n",
    "        a,b,c=self.len_sides\n",
    "        s=(a+b+c)/2\n",
    "        return (s*(s-a)*(s-b)*(s-c)) ** 0.5\n",
    "trio=triangle(([5,6,7]))\n",
    "print(trio)\n",
    "print(trio.area())"
   ]
  },
  {
   "cell_type": "code",
   "execution_count": 51,
   "metadata": {},
   "outputs": [
    {
     "data": {
      "text/plain": [
       "['Divya', 'Latha', 'Bilapati']"
      ]
     },
     "execution_count": 51,
     "metadata": {},
     "output_type": "execute_result"
    }
   ],
   "source": [
    "\"\"\"1.2. Write a function filter_long_words() that takes a list of words and an integer n and returns the list\n",
    "of words that are longer than n.\"\"\"\n",
    "def longest_wrds(x,num):\n",
    "    e=[]\n",
    "    for i in range(len(x)):\n",
    "        if len(x[i])>num:\n",
    "            e.append(x[i])\n",
    "    return e\n",
    "longest_wrds([\"Divya\",\"Latha\",\"Bilapati\",\"Dany\",\"Leny\"],4)\n"
   ]
  },
  {
   "cell_type": "code",
   "execution_count": 3,
   "metadata": {},
   "outputs": [
    {
     "name": "stdout",
     "output_type": "stream",
     "text": [
      "[2, 3, 4]\n",
      "[2, 3, 4]\n"
     ]
    }
   ],
   "source": [
    "\"\"\"2.1. Write a Python program using function concept that maps list of words \n",
    "into a list of integers representing the lengths of the corresponding words.\n",
    "Hint: If a list [ ab,cde,erty] is passed on to the python function \n",
    "output should come as [2,3,4]\n",
    "Here 2,3 and 4 are the lengths of the words in the list.\"\"\"\n",
    "\n",
    "def len_wrd(word):\n",
    "    leng=[]\n",
    "    for i in word:\n",
    "        leng.append(len(i))\n",
    "    return leng\n",
    "\n",
    "def map_listwrd(word):\n",
    "    return map(len,word)\n",
    "\n",
    "print(len_wrd([\"ab\",\"cde\",\"erty\"]))\n",
    "print(list(map_listwrd([\"ab\",\"cde\",\"erty\"])))"
   ]
  },
  {
   "cell_type": "code",
   "execution_count": 1,
   "metadata": {},
   "outputs": [
    {
     "name": "stdout",
     "output_type": "stream",
     "text": [
      "False\n",
      "False\n",
      "True\n",
      "True\n",
      "False\n"
     ]
    }
   ],
   "source": [
    "\"\"\"2.2. Write a Python function which takes a character \n",
    "(i.e. a string of length 1) and returns True if it is a vowel, False otherwise\"\"\"\n",
    "\n",
    "def is_vow(char):\n",
    "    if char in (\"a\",\"e\",\"i\",\"o\",\"u\",\"A\",\"E\",\"I\",\"O\",\"U\"):\n",
    "        return True\n",
    "    else:\n",
    "        return False\n",
    "print(is_vow(\" \"))\n",
    "print(is_vow(\"3\"))\n",
    "print(is_vow(\"a\"))\n",
    "print(is_vow(\"E\"))\n",
    "print(is_vow(\"d\"))"
   ]
  },
  {
   "cell_type": "code",
   "execution_count": null,
   "metadata": {},
   "outputs": [],
   "source": []
  }
 ],
 "metadata": {
  "kernelspec": {
   "display_name": "Python 3",
   "language": "python",
   "name": "python3"
  },
  "language_info": {
   "codemirror_mode": {
    "name": "ipython",
    "version": 3
   },
   "file_extension": ".py",
   "mimetype": "text/x-python",
   "name": "python",
   "nbconvert_exporter": "python",
   "pygments_lexer": "ipython3",
   "version": "3.7.6"
  }
 },
 "nbformat": 4,
 "nbformat_minor": 4
}
